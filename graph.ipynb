{
 "metadata": {
  "language_info": {
   "codemirror_mode": {
    "name": "ipython",
    "version": 3
   },
   "file_extension": ".py",
   "mimetype": "text/x-python",
   "name": "python",
   "nbconvert_exporter": "python",
   "pygments_lexer": "ipython3",
   "version": "3.8.10"
  },
  "orig_nbformat": 2,
  "kernelspec": {
   "name": "python3810jvsc74a57bd018a7369caa11a2133f0df769e28749b20d2496384fadcf7674aeee4e42b24e12",
   "display_name": "Python 3.8.10 64-bit ('py38tf2': conda)"
  }
 },
 "nbformat": 4,
 "nbformat_minor": 2,
 "cells": [
  {
   "cell_type": "code",
   "execution_count": 1,
   "metadata": {},
   "outputs": [],
   "source": [
    "import pandas as pd\n",
    "import numpy as np\n",
    "from glob import glob\n",
    "\n",
    "import matplotlib.pyplot as plt\n",
    "import plotly.express as px\n",
    "import plotly.io as po"
   ]
  },
  {
   "cell_type": "code",
   "execution_count": 2,
   "metadata": {},
   "outputs": [],
   "source": [
    "def clean_currency(x):\n",
    "    \"\"\" If the value is a string, then remove currency symbol and delimiters\n",
    "    otherwise, the value is numeric and can be converted\n",
    "    \"\"\"\n",
    "    if isinstance(x, str):\n",
    "        return(x.replace(',', ''))\n",
    "    return(x)"
   ]
  },
  {
   "source": [
    "# 2021 현황"
   ],
   "cell_type": "markdown",
   "metadata": {}
  },
  {
   "cell_type": "code",
   "execution_count": 3,
   "metadata": {},
   "outputs": [],
   "source": [
    "vga_csv_list = glob('./Danawa-Crawler/crawl_data/Last_Data/2021-*/VGA.csv')\n",
    "\n",
    "# 시작 설정\n",
    "df = pd.read_csv(vga_csv_list[0])\n",
    "vga_df = df[df.Name.str.contains('3060') & ~df.Name.str.contains('Ti')]\n",
    "\n",
    "# 나머지 설정\n",
    "for vga_path in vga_csv_list[0:]:\n",
    "    df = pd.read_csv(vga_path)\n",
    "    vga_df =vga_df.merge(df[df.Name.str.contains('3060') & ~df.Name.str.contains('Ti')], how='outer', on='Name')\n",
    "\n",
    "# 최신 추가\n",
    "df = pd.read_csv('./Danawa-Crawler/crawl_data/VGA.csv')\n",
    "vga_df =vga_df.merge(df[df.Name.str.contains('3060') & ~df.Name.str.contains('Ti')], how='outer', on='Name')\n",
    "\n",
    "# 몇몇 불필요 columns 삭제 ( 해당 부분 재설정 필요 )\n",
    "vga_df = vga_df.set_index('Name').drop(['Id_x','Id_y'],axis=1)\n",
    "\n",
    "# value를 str 에서 int로 변경\n",
    "for col_ in vga_df.columns:\n",
    "    vga_df[col_] = vga_df[col_].apply(clean_currency)\n",
    "    vga_df[col_] = pd.to_numeric(vga_df[col_], errors='coerce')\n",
    "\n",
    "# 0를 nan으로 변경\n",
    "vga_df = vga_df.replace(0, np.NaN)\n",
    "\n",
    "# graph 생성\n",
    "fig = px.line(vga_df.T)\n",
    "po.write_html(fig, file='./graph/vga_3060_graph.html',auto_open=False)\n",
    "\n",
    "# 평균 그래프 생성\n",
    "fig = px.line(vga_df.mean())\n",
    "po.write_html(fig, file='./graph/vga_3060_average_graph.html',auto_open=False)"
   ]
  },
  {
   "source": [
    "# 최근 월 집중"
   ],
   "cell_type": "markdown",
   "metadata": {}
  },
  {
   "cell_type": "code",
   "execution_count": 10,
   "metadata": {},
   "outputs": [
    {
     "output_type": "stream",
     "name": "stderr",
     "text": [
      "<ipython-input-10-19548ac8cb80>:7: SettingWithCopyWarning:\n\n\nA value is trying to be set on a copy of a slice from a DataFrame.\nTry using .loc[row_indexer,col_indexer] = value instead\n\nSee the caveats in the documentation: https://pandas.pydata.org/pandas-docs/stable/user_guide/indexing.html#returning-a-view-versus-a-copy\n\n<ipython-input-10-19548ac8cb80>:8: SettingWithCopyWarning:\n\n\nA value is trying to be set on a copy of a slice from a DataFrame.\nTry using .loc[row_indexer,col_indexer] = value instead\n\nSee the caveats in the documentation: https://pandas.pydata.org/pandas-docs/stable/user_guide/indexing.html#returning-a-view-versus-a-copy\n\n"
     ]
    }
   ],
   "source": [
    "# 최신 월 설정\n",
    "df = pd.read_csv('./Danawa-Crawler/crawl_data/VGA.csv')\n",
    "vga_df = df[df.Name.str.contains('3060') & ~df.Name.str.contains('Ti')]\n",
    "\n",
    "# value를 str 에서 int로 변경\n",
    "for col_ in vga_df.columns:\n",
    "    vga_df[col_] = vga_df[col_].apply(clean_currency)\n",
    "    vga_df[col_] = pd.to_numeric(vga_df[col_], errors='coerce')\n",
    "\n",
    "# 0를 nan으로 변경\n",
    "vga_df = vga_df.replace(0, np.NaN)\n",
    "\n",
    "# graph 생성\n",
    "fig = px.line(vga_df.T)\n",
    "po.write_html(fig, file='./graph/latest_vga_3060_graph.html',auto_open=False)\n",
    "\n",
    "# 평균 그래프 생성\n",
    "fig = px.line(vga_df.mean())\n",
    "po.write_html(fig, file='./graph/latest_vga_3060_average_graph.html',auto_open=False)"
   ]
  },
  {
   "cell_type": "code",
   "execution_count": 14,
   "metadata": {},
   "outputs": [
    {
     "output_type": "error",
     "ename": "ValueError",
     "evalue": "\nThe orca executable is required to export figures as static images,\nbut it could not be found on the system path.\n\nSearched for executable '/path/to/orca' on the following path:\n    C:\\Program Files\\NVIDIA GPU Computing Toolkit\\CUDA\\v11.1\\bin\n    C:\\Program Files\\NVIDIA GPU Computing Toolkit\\CUDA\\v11.1\\libnvvp\n    C:\\Windows\\system32\n    C:\\Windows\n    C:\\Windows\\System32\\Wbem\n    C:\\Windows\\System32\\WindowsPowerShell\\v1.0\\\n    C:\\Windows\\System32\\OpenSSH\\\n    C:\\Program Files (x86)\\NVIDIA Corporation\\PhysX\\Common\n    C:\\Program Files\\NVIDIA Corporation\\NVIDIA NvDLISR\n    C:\\Program Files\\NVIDIA Corporation\\Nsight Compute 2020.2.1\\\n    C:\\Program Files\\Git\\cmd\n    C:\\Program Files\\PuTTY\\\n    C:\\Users\\USER\\anaconda3\n    C:\\Users\\USER\\anaconda3\\Library\\mingw-w64\\bin\n    C:\\Users\\USER\\anaconda3\\Library\\usr\\bin\n    C:\\Users\\USER\\anaconda3\\Library\\bin\n    C:\\Users\\USER\\anaconda3\\Scripts\n    C:\\Users\\USER\\AppData\\Local\\Microsoft\\WindowsApps\n    C:\\Program Files\\Bandizip\\\n    C:\\Users\\USER\\AppData\\Local\\Programs\\Microsoft VS Code\\bin\n\nIf you haven't installed orca yet, you can do so using conda as follows:\n\n    $ conda install -c plotly plotly-orca\n\nAlternatively, see other installation methods in the orca project README at\nhttps://github.com/plotly/orca\n\nAfter installation is complete, no further configuration should be needed.\n\nIf you have installed orca, then for some reason plotly.py was unable to\nlocate it. In this case, set the `plotly.io.orca.config.executable`\nproperty to the full path of your orca executable. For example:\n\n    >>> plotly.io.orca.config.executable = '/path/to/orca'\n\nAfter updating this executable property, try the export operation again.\nIf it is successful then you may want to save this configuration so that it\nwill be applied automatically in future sessions. You can do this as follows:\n\n    >>> plotly.io.orca.config.save()\n\nIf you're still having trouble, feel free to ask for help on the forums at\nhttps://community.plot.ly/c/api/python\n",
     "traceback": [
      "\u001b[1;31m---------------------------------------------------------------------------\u001b[0m",
      "\u001b[1;31mValueError\u001b[0m                                Traceback (most recent call last)",
      "\u001b[1;32m<ipython-input-14-225f999fa5d4>\u001b[0m in \u001b[0;36m<module>\u001b[1;34m\u001b[0m\n\u001b[0;32m      1\u001b[0m \u001b[1;31m# README.md 용 jpg 이미지 생성\u001b[0m\u001b[1;33m\u001b[0m\u001b[1;33m\u001b[0m\u001b[1;33m\u001b[0m\u001b[0m\n\u001b[1;32m----> 2\u001b[1;33m \u001b[0mfig\u001b[0m\u001b[1;33m.\u001b[0m\u001b[0mto_image\u001b[0m\u001b[1;33m(\u001b[0m\u001b[1;34m\"./graph/latest_vga_3060_average_graph.png\"\u001b[0m\u001b[1;33m,\u001b[0m \u001b[0mengine\u001b[0m\u001b[1;33m=\u001b[0m\u001b[1;34m\"orca\"\u001b[0m\u001b[1;33m)\u001b[0m\u001b[1;33m\u001b[0m\u001b[1;33m\u001b[0m\u001b[0m\n\u001b[0m",
      "\u001b[1;32m~\\anaconda3\\envs\\py38tf2\\lib\\site-packages\\plotly\\basedatatypes.py\u001b[0m in \u001b[0;36mto_image\u001b[1;34m(self, *args, **kwargs)\u001b[0m\n\u001b[0;32m   3741\u001b[0m         \u001b[1;32mimport\u001b[0m \u001b[0mplotly\u001b[0m\u001b[1;33m.\u001b[0m\u001b[0mio\u001b[0m \u001b[1;32mas\u001b[0m \u001b[0mpio\u001b[0m\u001b[1;33m\u001b[0m\u001b[1;33m\u001b[0m\u001b[0m\n\u001b[0;32m   3742\u001b[0m \u001b[1;33m\u001b[0m\u001b[0m\n\u001b[1;32m-> 3743\u001b[1;33m         \u001b[1;32mreturn\u001b[0m \u001b[0mpio\u001b[0m\u001b[1;33m.\u001b[0m\u001b[0mto_image\u001b[0m\u001b[1;33m(\u001b[0m\u001b[0mself\u001b[0m\u001b[1;33m,\u001b[0m \u001b[1;33m*\u001b[0m\u001b[0margs\u001b[0m\u001b[1;33m,\u001b[0m \u001b[1;33m**\u001b[0m\u001b[0mkwargs\u001b[0m\u001b[1;33m)\u001b[0m\u001b[1;33m\u001b[0m\u001b[1;33m\u001b[0m\u001b[0m\n\u001b[0m\u001b[0;32m   3744\u001b[0m \u001b[1;33m\u001b[0m\u001b[0m\n\u001b[0;32m   3745\u001b[0m     \u001b[1;32mdef\u001b[0m \u001b[0mwrite_image\u001b[0m\u001b[1;33m(\u001b[0m\u001b[0mself\u001b[0m\u001b[1;33m,\u001b[0m \u001b[1;33m*\u001b[0m\u001b[0margs\u001b[0m\u001b[1;33m,\u001b[0m \u001b[1;33m**\u001b[0m\u001b[0mkwargs\u001b[0m\u001b[1;33m)\u001b[0m\u001b[1;33m:\u001b[0m\u001b[1;33m\u001b[0m\u001b[1;33m\u001b[0m\u001b[0m\n",
      "\u001b[1;32m~\\anaconda3\\envs\\py38tf2\\lib\\site-packages\\plotly\\io\\_kaleido.py\u001b[0m in \u001b[0;36mto_image\u001b[1;34m(fig, format, width, height, scale, validate, engine)\u001b[0m\n\u001b[0;32m    101\u001b[0m         \u001b[1;32mfrom\u001b[0m \u001b[1;33m.\u001b[0m\u001b[0m_orca\u001b[0m \u001b[1;32mimport\u001b[0m \u001b[0mto_image\u001b[0m \u001b[1;32mas\u001b[0m \u001b[0mto_image_orca\u001b[0m\u001b[1;33m\u001b[0m\u001b[1;33m\u001b[0m\u001b[0m\n\u001b[0;32m    102\u001b[0m \u001b[1;33m\u001b[0m\u001b[0m\n\u001b[1;32m--> 103\u001b[1;33m         return to_image_orca(\n\u001b[0m\u001b[0;32m    104\u001b[0m             \u001b[0mfig\u001b[0m\u001b[1;33m,\u001b[0m\u001b[1;33m\u001b[0m\u001b[1;33m\u001b[0m\u001b[0m\n\u001b[0;32m    105\u001b[0m             \u001b[0mformat\u001b[0m\u001b[1;33m=\u001b[0m\u001b[0mformat\u001b[0m\u001b[1;33m,\u001b[0m\u001b[1;33m\u001b[0m\u001b[1;33m\u001b[0m\u001b[0m\n",
      "\u001b[1;32m~\\anaconda3\\envs\\py38tf2\\lib\\site-packages\\plotly\\io\\_orca.py\u001b[0m in \u001b[0;36mto_image\u001b[1;34m(fig, format, width, height, scale, validate)\u001b[0m\n\u001b[0;32m   1533\u001b[0m     \u001b[1;31m# Make sure orca sever is running\u001b[0m\u001b[1;33m\u001b[0m\u001b[1;33m\u001b[0m\u001b[1;33m\u001b[0m\u001b[0m\n\u001b[0;32m   1534\u001b[0m     \u001b[1;31m# -------------------------------\u001b[0m\u001b[1;33m\u001b[0m\u001b[1;33m\u001b[0m\u001b[1;33m\u001b[0m\u001b[0m\n\u001b[1;32m-> 1535\u001b[1;33m     \u001b[0mensure_server\u001b[0m\u001b[1;33m(\u001b[0m\u001b[1;33m)\u001b[0m\u001b[1;33m\u001b[0m\u001b[1;33m\u001b[0m\u001b[0m\n\u001b[0m\u001b[0;32m   1536\u001b[0m \u001b[1;33m\u001b[0m\u001b[0m\n\u001b[0;32m   1537\u001b[0m     \u001b[1;31m# Handle defaults\u001b[0m\u001b[1;33m\u001b[0m\u001b[1;33m\u001b[0m\u001b[1;33m\u001b[0m\u001b[0m\n",
      "\u001b[1;32m~\\anaconda3\\envs\\py38tf2\\lib\\site-packages\\plotly\\io\\_orca.py\u001b[0m in \u001b[0;36mensure_server\u001b[1;34m()\u001b[0m\n\u001b[0;32m   1388\u001b[0m         \u001b[1;31m# Validate orca executable only if server_url is not provided\u001b[0m\u001b[1;33m\u001b[0m\u001b[1;33m\u001b[0m\u001b[1;33m\u001b[0m\u001b[0m\n\u001b[0;32m   1389\u001b[0m         \u001b[1;32mif\u001b[0m \u001b[0mstatus\u001b[0m\u001b[1;33m.\u001b[0m\u001b[0mstate\u001b[0m \u001b[1;33m==\u001b[0m \u001b[1;34m\"unvalidated\"\u001b[0m\u001b[1;33m:\u001b[0m\u001b[1;33m\u001b[0m\u001b[1;33m\u001b[0m\u001b[0m\n\u001b[1;32m-> 1390\u001b[1;33m             \u001b[0mvalidate_executable\u001b[0m\u001b[1;33m(\u001b[0m\u001b[1;33m)\u001b[0m\u001b[1;33m\u001b[0m\u001b[1;33m\u001b[0m\u001b[0m\n\u001b[0m\u001b[0;32m   1391\u001b[0m         \u001b[1;31m# Acquire lock to make sure that we keep the properties of orca_state\u001b[0m\u001b[1;33m\u001b[0m\u001b[1;33m\u001b[0m\u001b[1;33m\u001b[0m\u001b[0m\n\u001b[0;32m   1392\u001b[0m         \u001b[1;31m# consistent across threads\u001b[0m\u001b[1;33m\u001b[0m\u001b[1;33m\u001b[0m\u001b[1;33m\u001b[0m\u001b[0m\n",
      "\u001b[1;32m~\\anaconda3\\envs\\py38tf2\\lib\\site-packages\\plotly\\io\\_orca.py\u001b[0m in \u001b[0;36mvalidate_executable\u001b[1;34m()\u001b[0m\n\u001b[0;32m   1074\u001b[0m \u001b[1;33m\u001b[0m\u001b[0m\n\u001b[0;32m   1075\u001b[0m     \u001b[1;32mif\u001b[0m \u001b[0mexecutable\u001b[0m \u001b[1;32mis\u001b[0m \u001b[1;32mNone\u001b[0m\u001b[1;33m:\u001b[0m\u001b[1;33m\u001b[0m\u001b[1;33m\u001b[0m\u001b[0m\n\u001b[1;32m-> 1076\u001b[1;33m         raise ValueError(\n\u001b[0m\u001b[0;32m   1077\u001b[0m             \"\"\"\n\u001b[0;32m   1078\u001b[0m \u001b[0mThe\u001b[0m \u001b[0morca\u001b[0m \u001b[0mexecutable\u001b[0m \u001b[1;32mis\u001b[0m \u001b[0mrequired\u001b[0m \u001b[0mto\u001b[0m \u001b[0mexport\u001b[0m \u001b[0mfigures\u001b[0m \u001b[1;32mas\u001b[0m \u001b[0mstatic\u001b[0m \u001b[0mimages\u001b[0m\u001b[1;33m,\u001b[0m\u001b[1;33m\u001b[0m\u001b[1;33m\u001b[0m\u001b[0m\n",
      "\u001b[1;31mValueError\u001b[0m: \nThe orca executable is required to export figures as static images,\nbut it could not be found on the system path.\n\nSearched for executable '/path/to/orca' on the following path:\n    C:\\Program Files\\NVIDIA GPU Computing Toolkit\\CUDA\\v11.1\\bin\n    C:\\Program Files\\NVIDIA GPU Computing Toolkit\\CUDA\\v11.1\\libnvvp\n    C:\\Windows\\system32\n    C:\\Windows\n    C:\\Windows\\System32\\Wbem\n    C:\\Windows\\System32\\WindowsPowerShell\\v1.0\\\n    C:\\Windows\\System32\\OpenSSH\\\n    C:\\Program Files (x86)\\NVIDIA Corporation\\PhysX\\Common\n    C:\\Program Files\\NVIDIA Corporation\\NVIDIA NvDLISR\n    C:\\Program Files\\NVIDIA Corporation\\Nsight Compute 2020.2.1\\\n    C:\\Program Files\\Git\\cmd\n    C:\\Program Files\\PuTTY\\\n    C:\\Users\\USER\\anaconda3\n    C:\\Users\\USER\\anaconda3\\Library\\mingw-w64\\bin\n    C:\\Users\\USER\\anaconda3\\Library\\usr\\bin\n    C:\\Users\\USER\\anaconda3\\Library\\bin\n    C:\\Users\\USER\\anaconda3\\Scripts\n    C:\\Users\\USER\\AppData\\Local\\Microsoft\\WindowsApps\n    C:\\Program Files\\Bandizip\\\n    C:\\Users\\USER\\AppData\\Local\\Programs\\Microsoft VS Code\\bin\n\nIf you haven't installed orca yet, you can do so using conda as follows:\n\n    $ conda install -c plotly plotly-orca\n\nAlternatively, see other installation methods in the orca project README at\nhttps://github.com/plotly/orca\n\nAfter installation is complete, no further configuration should be needed.\n\nIf you have installed orca, then for some reason plotly.py was unable to\nlocate it. In this case, set the `plotly.io.orca.config.executable`\nproperty to the full path of your orca executable. For example:\n\n    >>> plotly.io.orca.config.executable = '/path/to/orca'\n\nAfter updating this executable property, try the export operation again.\nIf it is successful then you may want to save this configuration so that it\nwill be applied automatically in future sessions. You can do this as follows:\n\n    >>> plotly.io.orca.config.save()\n\nIf you're still having trouble, feel free to ask for help on the forums at\nhttps://community.plot.ly/c/api/python\n"
     ]
    }
   ],
   "source": [
    "# README.md 용 jpg 이미지 생성\n",
    "fig.to_image(\"./graph/latest_vga_3060_average_graph.png\", engine=\"orca\")"
   ]
  },
  {
   "cell_type": "code",
   "execution_count": 5,
   "metadata": {},
   "outputs": [],
   "source": [
    "df = pd.read_csv(f'./data/2101_VGA.csv')\n",
    "vga_df = df[df.Name.str.contains('2060') & ~df.Name.str.contains('Ti')]\n",
    "for i in range(2,6):\n",
    "    df = pd.read_csv(f'./data/210{i}_VGA.csv')\n",
    "    vga_df =vga_df.merge(df[df.Name.str.contains('2060') & ~df.Name.str.contains('SUPER')], how='outer', on='Name')\n",
    "\n",
    "vga_df = vga_df.set_index('Name').drop(['Id_x','Id_y'],axis=1)\n",
    "\n",
    "for col_ in vga_df.columns:\n",
    "    vga_df[col_] = vga_df[col_].apply(clean_currency)\n",
    "    vga_df[col_] = pd.to_numeric(vga_df[col_], errors='coerce')\n",
    "\n",
    "vga_df= vga_df.fillna(0)\n",
    "\n",
    "fig = px.line(vga_df.T)\n",
    "po.write_html(fig, file='./vga_2060_graph.html',auto_open=False)\n",
    "\n",
    "vga_df = vga_df.replace(0, np.NaN)\n",
    "fig = px.line(vga_df.mean())\n",
    "po.write_html(fig, file='./vga_2060_average_graph.html',auto_open=False)"
   ]
  },
  {
   "cell_type": "code",
   "execution_count": 7,
   "metadata": {},
   "outputs": [],
   "source": [
    "df = pd.read_csv(f'./data/2105_VGA.csv')\n",
    "vga_df = df[df.Name.str.contains('3060') & ~df.Name.str.contains('Ti')]\n",
    "\n",
    "vga_df = vga_df.set_index('Name')\n",
    "\n",
    "for col_ in vga_df.columns:\n",
    "    vga_df[col_] = vga_df[col_].apply(clean_currency)\n",
    "    vga_df[col_] = pd.to_numeric(vga_df[col_], errors='coerce')\n",
    "\n",
    "vga_df= vga_df.fillna(0)\n",
    "\n",
    "fig = px.line(vga_df.T)\n",
    "po.write_html(fig, file='./vga05_3060_graph.html',auto_open=False)\n",
    "\n",
    "vga_df = vga_df.replace(0, np.NaN)\n",
    "fig = px.line(vga_df.mean())\n",
    "po.write_html(fig, file='./vga05_3060_average_graph.html',auto_open=False)"
   ]
  },
  {
   "cell_type": "code",
   "execution_count": null,
   "metadata": {},
   "outputs": [],
   "source": []
  }
 ]
}