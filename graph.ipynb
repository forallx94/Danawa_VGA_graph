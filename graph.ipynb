{
 "metadata": {
  "language_info": {
   "codemirror_mode": {
    "name": "ipython",
    "version": 3
   },
   "file_extension": ".py",
   "mimetype": "text/x-python",
   "name": "python",
   "nbconvert_exporter": "python",
   "pygments_lexer": "ipython3",
   "version": "3.8.10"
  },
  "orig_nbformat": 2,
  "kernelspec": {
   "name": "python3810jvsc74a57bd018a7369caa11a2133f0df769e28749b20d2496384fadcf7674aeee4e42b24e12",
   "display_name": "Python 3.8.10 64-bit ('py38tf2': conda)"
  }
 },
 "nbformat": 4,
 "nbformat_minor": 2,
 "cells": [
  {
   "cell_type": "code",
   "execution_count": 1,
   "metadata": {},
   "outputs": [],
   "source": [
    "import pandas as pd\n",
    "import numpy as np\n",
    "from glob import glob\n",
    "\n",
    "import matplotlib.pyplot as plt\n",
    "import plotly.express as px\n",
    "import plotly.io as po"
   ]
  },
  {
   "cell_type": "code",
   "execution_count": 2,
   "metadata": {},
   "outputs": [],
   "source": [
    "def clean_currency(x):\n",
    "    \"\"\" If the value is a string, then remove currency symbol and delimiters\n",
    "    otherwise, the value is numeric and can be converted\n",
    "    \"\"\"\n",
    "    if isinstance(x, str):\n",
    "        return(x.replace(',', ''))\n",
    "    return(x)"
   ]
  },
  {
   "source": [
    "# RTX 3060 "
   ],
   "cell_type": "markdown",
   "metadata": {}
  },
  {
   "source": [
    "2021 현황"
   ],
   "cell_type": "markdown",
   "metadata": {}
  },
  {
   "cell_type": "code",
   "execution_count": 3,
   "metadata": {},
   "outputs": [],
   "source": [
    "vga_csv_list = glob('./Danawa-Crawler/crawl_data/Last_Data/2021-*/VGA.csv')\n",
    "\n",
    "# 시작 설정\n",
    "df = pd.read_csv(vga_csv_list[0])\n",
    "vga_df = df[df.Name.str.contains('3060') & ~df.Name.str.contains('Ti')]\n",
    "\n",
    "# 나머지 설정\n",
    "for vga_path in vga_csv_list[0:]:\n",
    "    df = pd.read_csv(vga_path)\n",
    "    vga_df =vga_df.merge(df[df.Name.str.contains('3060') & ~df.Name.str.contains('Ti')], how='outer', on='Name')\n",
    "\n",
    "# 최신 추가\n",
    "df = pd.read_csv('./Danawa-Crawler/crawl_data/VGA.csv')\n",
    "vga_df =vga_df.merge(df[df.Name.str.contains('3060') & ~df.Name.str.contains('Ti')], how='outer', on='Name')\n",
    "\n",
    "# 몇몇 불필요 columns 삭제 ( 해당 부분 재설정 필요 )\n",
    "vga_df = vga_df.set_index('Name').drop(['Id_x','Id_y'],axis=1)\n",
    "\n",
    "# value를 str 에서 int로 변경\n",
    "for col_ in vga_df.columns:\n",
    "    vga_df[col_] = vga_df[col_].apply(clean_currency)\n",
    "    vga_df[col_] = pd.to_numeric(vga_df[col_], errors='coerce')\n",
    "\n",
    "# 0를 nan으로 변경\n",
    "vga_df = vga_df.replace(0, np.NaN)\n",
    "\n",
    "# graph 생성\n",
    "fig = px.line(vga_df.T)\n",
    "po.write_html(fig, file='./graph/vga_3060_graph.html',auto_open=False)\n",
    "\n",
    "# 평균 그래프 생성\n",
    "fig = px.line(vga_df.mean())\n",
    "po.write_html(fig, file='./graph/vga_3060_average_graph.html',auto_open=False)"
   ]
  },
  {
   "source": [
    "최근 월 집중"
   ],
   "cell_type": "markdown",
   "metadata": {}
  },
  {
   "cell_type": "code",
   "execution_count": 4,
   "metadata": {},
   "outputs": [
    {
     "output_type": "stream",
     "name": "stderr",
     "text": [
      "<ipython-input-4-19548ac8cb80>:7: SettingWithCopyWarning:\n\n\nA value is trying to be set on a copy of a slice from a DataFrame.\nTry using .loc[row_indexer,col_indexer] = value instead\n\nSee the caveats in the documentation: https://pandas.pydata.org/pandas-docs/stable/user_guide/indexing.html#returning-a-view-versus-a-copy\n\n<ipython-input-4-19548ac8cb80>:8: SettingWithCopyWarning:\n\n\nA value is trying to be set on a copy of a slice from a DataFrame.\nTry using .loc[row_indexer,col_indexer] = value instead\n\nSee the caveats in the documentation: https://pandas.pydata.org/pandas-docs/stable/user_guide/indexing.html#returning-a-view-versus-a-copy\n\n"
     ]
    }
   ],
   "source": [
    "# 최신 월 설정\n",
    "df = pd.read_csv('./Danawa-Crawler/crawl_data/VGA.csv')\n",
    "vga_df = df[df.Name.str.contains('3060') & ~df.Name.str.contains('Ti')]\n",
    "\n",
    "# value를 str 에서 int로 변경\n",
    "for col_ in vga_df.columns:\n",
    "    vga_df[col_] = vga_df[col_].apply(clean_currency)\n",
    "    vga_df[col_] = pd.to_numeric(vga_df[col_], errors='coerce')\n",
    "\n",
    "# 0를 nan으로 변경\n",
    "vga_df = vga_df.replace(0, np.NaN)\n",
    "\n",
    "# graph 생성\n",
    "fig = px.line(vga_df.T)\n",
    "po.write_html(fig, file='./graph/latest_vga_3060_graph.html',auto_open=False)\n",
    "\n",
    "# 평균 그래프 생성\n",
    "fig = px.line(vga_df.mean())\n",
    "po.write_html(fig, file='./graph/latest_vga_3060_average_graph.html',auto_open=False)"
   ]
  },
  {
   "source": [
    "# 2060"
   ],
   "cell_type": "markdown",
   "metadata": {}
  },
  {
   "source": [
    "2021 현황"
   ],
   "cell_type": "markdown",
   "metadata": {}
  },
  {
   "cell_type": "code",
   "execution_count": 5,
   "metadata": {},
   "outputs": [],
   "source": [
    "vga_csv_list = glob('./Danawa-Crawler/crawl_data/Last_Data/2021-*/VGA.csv')\n",
    "\n",
    "# 시작 설정\n",
    "df = pd.read_csv(vga_csv_list[0])\n",
    "vga_df = df[df.Name.str.contains('2060') & ~df.Name.str.contains('SUPER')]\n",
    "\n",
    "# 나머지 설정\n",
    "for vga_path in vga_csv_list[0:]:\n",
    "    df = pd.read_csv(vga_path)\n",
    "    vga_df =vga_df.merge(df[df.Name.str.contains('2060') & ~df.Name.str.contains('SUPER')], how='outer', on='Name')\n",
    "\n",
    "# 최신 추가\n",
    "df = pd.read_csv('./Danawa-Crawler/crawl_data/VGA.csv')\n",
    "vga_df =vga_df.merge(df[df.Name.str.contains('2060') & ~df.Name.str.contains('SUPER')], how='outer', on='Name')\n",
    "\n",
    "# 몇몇 불필요 columns 삭제 ( 해당 부분 재설정 필요 )\n",
    "vga_df = vga_df.set_index('Name').drop(['Id_x','Id_y'],axis=1)\n",
    "\n",
    "# value를 str 에서 int로 변경\n",
    "for col_ in vga_df.columns:\n",
    "    vga_df[col_] = vga_df[col_].apply(clean_currency)\n",
    "    vga_df[col_] = pd.to_numeric(vga_df[col_], errors='coerce')\n",
    "\n",
    "# 0를 nan으로 변경\n",
    "vga_df = vga_df.replace(0, np.NaN)\n",
    "\n",
    "# graph 생성\n",
    "fig = px.line(vga_df.T)\n",
    "po.write_html(fig, file='./graph/vga_2060_graph.html',auto_open=False)\n",
    "\n",
    "# 평균 그래프 생성\n",
    "fig = px.line(vga_df.mean())\n",
    "po.write_html(fig, file='./graph/vga_2060_average_graph.html',auto_open=False)"
   ]
  },
  {
   "source": [
    "최근 월 집중"
   ],
   "cell_type": "markdown",
   "metadata": {}
  },
  {
   "cell_type": "code",
   "execution_count": 6,
   "metadata": {},
   "outputs": [
    {
     "output_type": "stream",
     "name": "stderr",
     "text": [
      "<ipython-input-6-bb777c1b94c9>:7: SettingWithCopyWarning:\n\n\nA value is trying to be set on a copy of a slice from a DataFrame.\nTry using .loc[row_indexer,col_indexer] = value instead\n\nSee the caveats in the documentation: https://pandas.pydata.org/pandas-docs/stable/user_guide/indexing.html#returning-a-view-versus-a-copy\n\n<ipython-input-6-bb777c1b94c9>:8: SettingWithCopyWarning:\n\n\nA value is trying to be set on a copy of a slice from a DataFrame.\nTry using .loc[row_indexer,col_indexer] = value instead\n\nSee the caveats in the documentation: https://pandas.pydata.org/pandas-docs/stable/user_guide/indexing.html#returning-a-view-versus-a-copy\n\n"
     ]
    }
   ],
   "source": [
    "# 최신 월 설정\n",
    "df = pd.read_csv('./Danawa-Crawler/crawl_data/VGA.csv')\n",
    "vga_df = df[df.Name.str.contains('2060') & ~df.Name.str.contains('SUPER')]\n",
    "\n",
    "# value를 str 에서 int로 변경\n",
    "for col_ in vga_df.columns:\n",
    "    vga_df[col_] = vga_df[col_].apply(clean_currency)\n",
    "    vga_df[col_] = pd.to_numeric(vga_df[col_], errors='coerce')\n",
    "\n",
    "# 0를 nan으로 변경\n",
    "vga_df = vga_df.replace(0, np.NaN)\n",
    "\n",
    "# graph 생성\n",
    "fig = px.line(vga_df.T)\n",
    "po.write_html(fig, file='./graph/latest_vga_2060_graph.html',auto_open=False)\n",
    "\n",
    "# 평균 그래프 생성\n",
    "fig = px.line(vga_df.mean())\n",
    "po.write_html(fig, file='./graph/latest_vga_2060_average_graph.html',auto_open=False)"
   ]
  },
  {
   "cell_type": "code",
   "execution_count": null,
   "metadata": {},
   "outputs": [],
   "source": []
  }
 ]
}