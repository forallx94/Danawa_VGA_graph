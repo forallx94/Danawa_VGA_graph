{
 "metadata": {
  "language_info": {
   "codemirror_mode": {
    "name": "ipython",
    "version": 3
   },
   "file_extension": ".py",
   "mimetype": "text/x-python",
   "name": "python",
   "nbconvert_exporter": "python",
   "pygments_lexer": "ipython3",
   "version": "3.8.10"
  },
  "orig_nbformat": 2,
  "kernelspec": {
   "name": "python3",
   "display_name": "Python 3.8.10 64-bit ('py38tf2': conda)"
  },
  "interpreter": {
   "hash": "18a7369caa11a2133f0df769e28749b20d2496384fadcf7674aeee4e42b24e12"
  }
 },
 "nbformat": 4,
 "nbformat_minor": 2,
 "cells": [
  {
   "cell_type": "code",
   "execution_count": 7,
   "metadata": {},
   "outputs": [],
   "source": [
    "import pandas as pd\n",
    "import numpy as np\n",
    "from glob import glob\n",
    "\n",
    "import matplotlib.pyplot as plt\n",
    "import plotly.express as px\n",
    "import plotly.io as po"
   ]
  },
  {
   "cell_type": "code",
   "execution_count": 8,
   "metadata": {},
   "outputs": [],
   "source": [
    "def clean_currency(x):\n",
    "    \"\"\" If the value is a string, then remove currency symbol and delimiters\n",
    "    otherwise, the value is numeric and can be converted\n",
    "    \"\"\"\n",
    "    if isinstance(x, str):\n",
    "        return(x.replace(',', ''))\n",
    "    return(x)"
   ]
  },
  {
   "source": [
    "# RTX without ti"
   ],
   "cell_type": "markdown",
   "metadata": {}
  },
  {
   "cell_type": "code",
   "execution_count": 9,
   "metadata": {},
   "outputs": [],
   "source": [
    "def withoutti(df,vga):\n",
    "    vga_df =df[df.Name.str.contains(vga) & ~df.Name.str.contains('Ti')]\n",
    "\n",
    "    # 몇몇 불필요 columns 삭제 ( 해당 부분 재설정 필요 )\n",
    "    vga_df = vga_df.set_index('Name').drop(['Id_x','Id_y'],axis=1)\n",
    "\n",
    "    # value를 str 에서 int로 변경\n",
    "    for col_ in vga_df.columns:\n",
    "        vga_df[col_] = vga_df[col_].apply(clean_currency)\n",
    "        vga_df[col_] = pd.to_numeric(vga_df[col_], errors='coerce')\n",
    "\n",
    "    # 0를 nan으로 변경\n",
    "    vga_df = vga_df.replace(0, np.NaN)\n",
    "\n",
    "    # graph 생성\n",
    "    fig = px.line(vga_df.T)\n",
    "    po.write_html(fig, file=f'./graph/vga_{vga}_graph.html',auto_open=False)\n",
    "\n",
    "    # 평균 그래프 생성\n",
    "    fig = px.line(vga_df.mean())\n",
    "    po.write_html(fig, file=f'./graph/vga_{vga}_average_graph.html',auto_open=False)"
   ]
  },
  {
   "cell_type": "code",
   "execution_count": 10,
   "metadata": {},
   "outputs": [],
   "source": [
    "vga_csv_list = glob('./Danawa-Crawler/crawl_data/Last_Data/2021-*/VGA.csv')\n",
    "# 시작 설정\n",
    "df = pd.read_csv(vga_csv_list[0])\n",
    "\n",
    "for vga_path in vga_csv_list[0:]:\n",
    "    df = df.merge(pd.read_csv(vga_path), how='outer', on='Name')\n",
    "\n",
    "# 최신 추가\n",
    "df = df.merge(pd.read_csv('./Danawa-Crawler/crawl_data/VGA.csv'), how='outer', on='Name')\n",
    "\n",
    "vga_list = ['2060','2070','2080','3060','3070','3080']\n",
    "\n",
    "# 그래프 생성\n",
    "for vga in vga_list:\n",
    "    withoutti(df,vga)"
   ]
  },
  {
   "source": [
    "# RTX with Ti"
   ],
   "cell_type": "markdown",
   "metadata": {}
  },
  {
   "cell_type": "code",
   "execution_count": 11,
   "metadata": {},
   "outputs": [],
   "source": [
    "def withti(df,vga):\n",
    "    vga_df =df[df.Name.str.contains(vga) & df.Name.str.contains('Ti')]\n",
    "\n",
    "    # 몇몇 불필요 columns 삭제 ( 해당 부분 재설정 필요 )\n",
    "    vga_df = vga_df.set_index('Name').drop(['Id_x','Id_y'],axis=1)\n",
    "\n",
    "    # value를 str 에서 int로 변경\n",
    "    for col_ in vga_df.columns:\n",
    "        vga_df[col_] = vga_df[col_].apply(clean_currency)\n",
    "        vga_df[col_] = pd.to_numeric(vga_df[col_], errors='coerce')\n",
    "\n",
    "    # 0를 nan으로 변경\n",
    "    vga_df = vga_df.replace(0, np.NaN)\n",
    "\n",
    "    # graph 생성\n",
    "    fig = px.line(vga_df.T)\n",
    "    po.write_html(fig, file=f'./graph/vga_{vga}Ti_graph.html',auto_open=False)\n",
    "\n",
    "    # 평균 그래프 생성\n",
    "    fig = px.line(vga_df.mean())\n",
    "    po.write_html(fig, file=f'./graph/vga_{vga}Ti_average_graph.html',auto_open=False)"
   ]
  },
  {
   "cell_type": "code",
   "execution_count": 12,
   "metadata": {},
   "outputs": [],
   "source": [
    "vga_csv_list = glob('./Danawa-Crawler/crawl_data/Last_Data/2021-*/VGA.csv')\n",
    "# 시작 설정\n",
    "df = pd.read_csv(vga_csv_list[0])\n",
    "\n",
    "for vga_path in vga_csv_list[0:]:\n",
    "    df = df.merge(pd.read_csv(vga_path), how='outer', on='Name')\n",
    "\n",
    "# 최신 추가\n",
    "df = df.merge(pd.read_csv('./Danawa-Crawler/crawl_data/VGA.csv'), how='outer', on='Name')\n",
    "\n",
    "vga_list = ['2080','3060','3070','3080']\n",
    "\n",
    "for vga in vga_list:\n",
    "    withti(df,vga)"
   ]
  },
  {
   "cell_type": "code",
   "execution_count": null,
   "metadata": {},
   "outputs": [],
   "source": []
  }
 ]
}