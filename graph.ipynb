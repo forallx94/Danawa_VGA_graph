{
 "cells": [
  {
   "cell_type": "code",
   "execution_count": 1,
   "metadata": {},
   "outputs": [],
   "source": [
    "import pandas as pd\n",
    "import numpy as np\n",
    "from glob import glob\n",
    "\n",
    "import matplotlib.pyplot as plt\n",
    "import plotly.express as px\n",
    "import plotly.io as po"
   ]
  },
  {
   "cell_type": "code",
   "execution_count": 2,
   "metadata": {},
   "outputs": [],
   "source": [
    "def clean_currency(x):\n",
    "    if isinstance(x, str):\n",
    "        x = x.replace(',', '')\n",
    "        if '|' in x:\n",
    "            return min([i.split('_')[1] for i in x.split('|')])\n",
    "        else:\n",
    "            return x"
   ]
  },
  {
   "cell_type": "markdown",
   "metadata": {},
   "source": [
    "# RTX without ti"
   ]
  },
  {
   "cell_type": "code",
   "execution_count": 3,
   "metadata": {},
   "outputs": [],
   "source": [
    "def withoutti(df,vga):\n",
    "    vga_df = df[df.index.str.contains(vga) & ~df.index.str.contains('Ti')]\n",
    "    vga_df = vga_df.dropna(how='all')\n",
    "    vga_df = vga_df.T.dropna(how='all')\n",
    "\n",
    "    # graph 생성\n",
    "    fig = px.line(vga_df)\n",
    "    po.write_html(fig, file=f'./graph/vga_{vga}_graph.html',auto_open=False)"
   ]
  },
  {
   "cell_type": "code",
   "execution_count": 4,
   "metadata": {},
   "outputs": [
    {
     "name": "stderr",
     "output_type": "stream",
     "text": [
      "C:\\Users\\user\\anaconda3\\envs\\py38tf2\\lib\\site-packages\\plotly\\express\\_core.py:1220: PerformanceWarning: DataFrame is highly fragmented.  This is usually the result of calling `frame.insert` many times, which has poor performance.  Consider joining all columns at once using pd.concat(axis=1) instead.  To get a de-fragmented frame, use `newframe = frame.copy()`\n",
      "  df_output[col_name] = to_unindexed_series(df_input[argument])\n",
      "C:\\Users\\user\\anaconda3\\envs\\py38tf2\\lib\\site-packages\\plotly\\express\\_core.py:1220: PerformanceWarning:\n",
      "\n",
      "DataFrame is highly fragmented.  This is usually the result of calling `frame.insert` many times, which has poor performance.  Consider joining all columns at once using pd.concat(axis=1) instead.  To get a de-fragmented frame, use `newframe = frame.copy()`\n",
      "\n"
     ]
    }
   ],
   "source": [
    "vga_csv_list = glob('./Danawa-Crawler/crawl_data/Last_Data/2021-*/VGA.csv')\n",
    "# 시작 설정\n",
    "df = pd.read_csv(vga_csv_list[0])\n",
    "df = df.drop(['Id'],axis=1)\n",
    "\n",
    "for vga_path in vga_csv_list[1:]:\n",
    "    temp_df = pd.read_csv(vga_path)\n",
    "    temp_df = temp_df.drop(['Id'],axis=1)\n",
    "    df = df.merge(temp_df, how='outer', on='Name')\n",
    "\n",
    "# 최신 추가\n",
    "temp_df = pd.read_csv('./Danawa-Crawler/crawl_data/VGA.csv')\n",
    "temp_df = temp_df.drop(['Id'],axis=1)\n",
    "df = df.merge(temp_df, how='outer', on='Name')\n",
    "\n",
    "df = df.set_index(['Name'])\n",
    "\n",
    "# value를 str 에서 int로 변경\n",
    "for col_ in df.columns:\n",
    "    df[col_] = df[col_].apply(clean_currency)\n",
    "    df[col_] = pd.to_numeric(df[col_], errors='coerce')\n",
    "\n",
    "# 0를 nan으로 변경\n",
    "df = df.replace(0, np.NaN)\n",
    "\n",
    "# 중복 제거\n",
    "df = df.drop_duplicates()\n",
    "for name,num in df.index.value_counts().items():\n",
    "    if num > 1:\n",
    "        duplicate_df = df.loc[name]\n",
    "        df = df.drop([name])\n",
    "        df.loc[name] = duplicate_df.mean()\n",
    "        \n",
    "vga_list = ['2060','2070','2080','3060','3070','3080']\n",
    "\n",
    "# 그래프 생성\n",
    "for vga in vga_list:\n",
    "    withoutti(df,vga)"
   ]
  },
  {
   "cell_type": "markdown",
   "metadata": {},
   "source": [
    "# RTX with Ti"
   ]
  },
  {
   "cell_type": "code",
   "execution_count": 5,
   "metadata": {},
   "outputs": [],
   "source": [
    "def withti(df,vga):\n",
    "    vga_df = df[df.index.str.contains(vga) & df.index.str.contains('Ti')]\n",
    "    vga_df = vga_df.dropna(how='all')\n",
    "    vga_df = vga_df.T.dropna(how='all')\n",
    "\n",
    "    # graph 생성\n",
    "    fig = px.line(vga_df)\n",
    "    po.write_html(fig, file=f'./graph/vga_{vga}Ti_graph.html',auto_open=False)"
   ]
  },
  {
   "cell_type": "code",
   "execution_count": 6,
   "metadata": {},
   "outputs": [],
   "source": [
    "vga_csv_list = glob('./Danawa-Crawler/crawl_data/Last_Data/2021-*/VGA.csv')\n",
    "# 시작 설정\n",
    "df = pd.read_csv(vga_csv_list[0])\n",
    "df = df.drop(['Id'],axis=1)\n",
    "\n",
    "for vga_path in vga_csv_list[1:]:\n",
    "    temp_df = pd.read_csv(vga_path)\n",
    "    temp_df = temp_df.drop(['Id'],axis=1)\n",
    "    df = df.merge(temp_df, how='outer', on='Name')\n",
    "\n",
    "# 최신 추가\n",
    "temp_df = pd.read_csv('./Danawa-Crawler/crawl_data/VGA.csv')\n",
    "temp_df = temp_df.drop(['Id'],axis=1)\n",
    "df = df.merge(temp_df, how='outer', on='Name')\n",
    "\n",
    "df = df.set_index(['Name'])\n",
    "\n",
    "# value를 str 에서 int로 변경\n",
    "for col_ in df.columns:\n",
    "    df[col_] = df[col_].apply(clean_currency)\n",
    "    df[col_] = pd.to_numeric(df[col_], errors='coerce')\n",
    "\n",
    "# 0를 nan으로 변경\n",
    "df = df.replace(0, np.NaN)\n",
    "\n",
    "# 중복 제거\n",
    "df = df.drop_duplicates()\n",
    "for name,num in df.index.value_counts().items():\n",
    "    if num > 1:\n",
    "        duplicate_df = df.loc[name]\n",
    "        df = df.drop([name])\n",
    "        df.loc[name] = duplicate_df.mean()\n",
    "\n",
    "vga_list = ['2080','3060','3070','3080']\n",
    "\n",
    "for vga in vga_list:\n",
    "    withti(df,vga)"
   ]
  },
  {
   "cell_type": "markdown",
   "metadata": {},
   "source": [
    "# 통합 평균 그래프"
   ]
  },
  {
   "cell_type": "code",
   "execution_count": 7,
   "metadata": {},
   "outputs": [],
   "source": [
    "vga_csv_list = glob('./Danawa-Crawler/crawl_data/Last_Data/2021-*/VGA.csv')\n",
    "# 시작 설정\n",
    "df = pd.read_csv(vga_csv_list[0])\n",
    "df = df.drop(['Id'],axis=1)\n",
    "\n",
    "for vga_path in vga_csv_list[1:]:\n",
    "    temp_df = pd.read_csv(vga_path)\n",
    "    temp_df = temp_df.drop(['Id'],axis=1)\n",
    "    df = df.merge(temp_df, how='outer', on='Name')\n",
    "\n",
    "# 최신 추가\n",
    "temp_df = pd.read_csv('./Danawa-Crawler/crawl_data/VGA.csv')\n",
    "temp_df = temp_df.drop(['Id'],axis=1)\n",
    "df = df.merge(temp_df, how='outer', on='Name')\n",
    "\n",
    "df = df.set_index(['Name'])\n",
    "\n",
    "# value를 str 에서 int로 변경\n",
    "for col_ in df.columns:\n",
    "    df[col_] = df[col_].apply(clean_currency)\n",
    "    df[col_] = pd.to_numeric(df[col_], errors='coerce')\n",
    "\n",
    "# 0를 nan으로 변경\n",
    "df = df.replace(0, np.NaN)\n",
    "\n",
    "# 중복 제거\n",
    "df = df.drop_duplicates()\n",
    "for name,num in df.index.value_counts().items():\n",
    "    if num > 1:\n",
    "        duplicate_df = df.loc[name]\n",
    "        df = df.drop([name])\n",
    "        df.loc[name] = duplicate_df.mean()\n",
    "\n",
    "\n",
    "vga_list = ['2060','2070','2080','3060','3070','3080']\n",
    "vga_ti_list = ['2080','3060','3070','3080']\n",
    "\n",
    "average_graph = pd.DataFrame(columns=df.columns)\n",
    "for vga in vga_list:\n",
    "    vga_df = df[df.index.str.contains(vga) & ~df.index.str.contains('Ti')]\n",
    "    average_graph.loc[f'{vga}'] = vga_df.mean()\n",
    "\n",
    "    if vga in vga_ti_list:\n",
    "        vga_df = df[df.index.str.contains(vga) & df.index.str.contains('Ti')]\n",
    "        average_graph.loc[f'{vga}Ti'] = vga_df.mean()\n",
    "\n",
    "# 평균 그래프 생성\n",
    "fig = px.line(average_graph.T)\n",
    "po.write_html(fig, file=f'./graph/Total_average_graph.html',auto_open=False)"
   ]
  },
  {
   "cell_type": "code",
   "execution_count": null,
   "metadata": {},
   "outputs": [],
   "source": []
  }
 ],
 "metadata": {
  "interpreter": {
   "hash": "18a7369caa11a2133f0df769e28749b20d2496384fadcf7674aeee4e42b24e12"
  },
  "kernelspec": {
   "display_name": "Python 3.8.10 64-bit ('py38tf2': conda)",
   "name": "python3"
  },
  "language_info": {
   "codemirror_mode": {
    "name": "ipython",
    "version": 3
   },
   "file_extension": ".py",
   "mimetype": "text/x-python",
   "name": "python",
   "nbconvert_exporter": "python",
   "pygments_lexer": "ipython3",
   "version": "3.8.11"
  },
  "orig_nbformat": 2
 },
 "nbformat": 4,
 "nbformat_minor": 2
}
